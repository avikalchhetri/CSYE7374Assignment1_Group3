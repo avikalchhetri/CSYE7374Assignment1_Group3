{
 "cells": [
  {
   "cell_type": "code",
   "execution_count": 1,
   "metadata": {
    "collapsed": true
   },
   "outputs": [],
   "source": [
    "## Spark Application - execute with spark-submit\n",
    "\n",
    "## Import the packages\n",
    "import csv\n",
    "from pyspark.mllib.regression import LabeledPoint, LassoWithSGD\n",
    "from StringIO import StringIO\n",
    "from collections import namedtuple\n",
    "from pyspark import SparkConf, SparkContext\n",
    "from pyspark.mllib.util import MLUtils\n",
    "from pyspark.mllib.evaluation import RegressionMetrics\n",
    "\n",
    "\n",
    "## Module Constants\n",
    "APP_NAME = \"Wine Quality Analysis\"\n",
    "fields   = ('fixed_acidity','volatile_acidity','citric_acid','residual_sugar','chlorides','free_sulfur_dioxide','total_sulfur_dioxide','density','pH','sulphates','alcohol','quality')\n",
    "#Wine   = namedtuple('Wine', fields)\n",
    "sc = SparkContext(appName=\"Classification\")\n",
    "\n",
    "# Closures\n",
    "def split(line):\n",
    "    \"\"\"\n",
    "    Operator function for splitting a line with csv module\n",
    "    \"\"\"\n",
    "    reader = csv.reader(StringIO(line))\n",
    "    return reader.next()\n",
    "def parse(row):\n",
    "    \"\"\"\n",
    "    Parses a row and returns a named tuple.\n",
    "    \"\"\"\n",
    "    row[0]  = float(row[0])\n",
    "    row[1]  = float(row[1])\n",
    "    row[2]  = float(row[2])\n",
    "    row[3]  = float(row[3])\n",
    "    row[4]  = float(row[4])\n",
    "    row[5]  = float(row[5])\n",
    "    row[6]  = float(row[6])\n",
    "    row[7]  = float(row[8])\n",
    "    row[8]  = float(row[9])\n",
    "    row[9]  = float(row[10])\n",
    "    row[10] = row[11]\n",
    "    \n",
    "    return LabeledPoint(row[10], row[0:9])\n",
    "\n",
    "wines = sc.textFile(\"C:\\\\Users\\\\anirudhbedre\\\\Desktop\\\\Wine\\\\wine_quality_pyspark_regression.csv\").map(split).map(parse)\n",
    "(trainingData, testData) = wines.randomSplit([0.7, 0.3])\n",
    "\n",
    "# Train the model.\n",
    "\n",
    "model =LassoWithSGD.train(trainingData, iterations=100, step=0.000469,  intercept=True)\n",
    "\n",
    "\n",
    "# Evaluate the model on training data\n",
    "train_valuesAndPreds = trainingData.map(lambda p: (p.label, model.predict(p.features)))\n",
    "MSE = train_valuesAndPreds.map(lambda (v, p): (v - p)**2).reduce(lambda x, y: x + y) / train_valuesAndPreds.count()\n",
    "print(\"Training Mean Squared Error = \" + str(MSE))\n",
    "\n",
    " \n",
    "\n",
    "# Evaluate the model on test data\n",
    "test_valuesAndPreds = testData.map(lambda p: (p.label, model.predict(p.features)))\n",
    "MSE = test_valuesAndPreds.map(lambda (v, p): (v - p)**2).reduce(lambda x, y: x + y) / test_valuesAndPreds.count()\n",
    "print(\"Test Mean Squared Error = \" + str(MSE))\n",
    "\n",
    "\n",
    "\n",
    "\n",
    "sc.stop()"
   ]
  },
  {
   "cell_type": "code",
   "execution_count": null,
   "metadata": {
    "collapsed": true
   },
   "outputs": [],
   "source": []
  },
  {
   "cell_type": "code",
   "execution_count": null,
   "metadata": {
    "collapsed": true
   },
   "outputs": [],
   "source": []
  }
 ],
 "metadata": {
  "kernelspec": {
   "display_name": "Python 2",
   "language": "python",
   "name": "python2"
  },
  "language_info": {
   "codemirror_mode": {
    "name": "ipython",
    "version": 2
   },
   "file_extension": ".py",
   "mimetype": "text/x-python",
   "name": "python",
   "nbconvert_exporter": "python",
   "pygments_lexer": "ipython2",
   "version": "2.7.9"
  }
 },
 "nbformat": 4,
 "nbformat_minor": 0
}
