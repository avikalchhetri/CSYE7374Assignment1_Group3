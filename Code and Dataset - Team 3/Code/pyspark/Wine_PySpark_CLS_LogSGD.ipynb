{
 "cells": [
  {
   "cell_type": "code",
   "execution_count": 1,
   "metadata": {
    "collapsed": false
   },
   "outputs": [
    {
     "name": "stdout",
     "output_type": "stream",
     "text": [
      "Training score = 0.770676691729\n",
      "Testing score = 0.770833333333\n"
     ]
    }
   ],
   "source": [
    "## Spark Application - execute with spark-submit\n",
    "\n",
    "# Importing the required packages\n",
    "import csv\n",
    "from pyspark.mllib.regression import LabeledPoint\n",
    "from StringIO import StringIO\n",
    "from collections import namedtuple\n",
    "from pyspark import SparkConf, SparkContext\n",
    "from pyspark.mllib.util import MLUtils\n",
    "from pyspark.mllib.classification import LogisticRegressionWithSGD\n",
    "\n",
    "\n",
    "## Module Constants\n",
    "APP_NAME = \"Wine Quality Analysis\"\n",
    "fields   = ('fixed_acidity','volatile_acidity','citric_acid','residual_sugar','chlorides','free_sulfur_dioxide','total_sulfur_dioxide','density','pH','sulphates','alcohol','quality')\n",
    "sc = SparkContext(appName=\"Classification\")\n",
    "\n",
    "# Closures\n",
    "def split(line):\n",
    "    \"\"\"\n",
    "    Operator function for splitting a line with csv module\n",
    "    \"\"\"\n",
    "    reader = csv.reader(StringIO(line))\n",
    "    return reader.next()\n",
    "\n",
    "def parse(row):\n",
    "    \"\"\"\n",
    "    Parses a row and returns a named tuple.\n",
    "    \"\"\"\n",
    "\n",
    "    row[0]  = float(row[0])\n",
    "    row[1]  = float(row[1])\n",
    "    row[2]  = float(row[2])\n",
    "    row[3]  = float(row[3])\n",
    "    row[4]  = float(row[4])\n",
    "    row[5]  = float(row[5])\n",
    "    row[6]  = float(row[6])\n",
    "    row[7]  = float(row[8])\n",
    "    row[8]  = float(row[9])\n",
    "    row[9]  = float(row[10])\n",
    "    row[10] = row[11]\n",
    "    \n",
    "    return LabeledPoint(row[10], row[0:9])\n",
    "\n",
    "\n",
    "wines = sc.textFile(\"C:\\\\Users\\\\anirudhbedre\\\\Desktop\\\\Wine\\\\wine_quality_pyspark_classification.csv\").map(split).map(parse)\n",
    "\n",
    "(trainingData, testData) = wines.randomSplit([0.7, 0.3],seed=12345)\n",
    "\n",
    "# Train the model\n",
    "model =LogisticRegressionWithSGD.train(trainingData, iterations=10,step=0.000469,regType=None,intercept='True')\n",
    "\n",
    "# Evaluating the model on training data\n",
    "training_labelsAndPreds = trainingData.map(lambda p: (p.label, model.predict(p.features)))\n",
    "trainErr = training_labelsAndPreds.filter(lambda (v, p): v != p).count() / float(trainingData.count())\n",
    "print(\"Training score = \" + str(1-trainErr))\n",
    "\n",
    "test_labelsAndPreds = testData.map(lambda p: (p.label, model.predict(p.features)))\n",
    "testErr = test_labelsAndPreds.filter(lambda (v, p): v != p).count() / float(testData.count())\n",
    "print(\"Testing score = \" + str(1-testErr))\n",
    "\n",
    "sc.stop()"
   ]
  },
  {
   "cell_type": "code",
   "execution_count": null,
   "metadata": {
    "collapsed": true
   },
   "outputs": [],
   "source": []
  }
 ],
 "metadata": {
  "kernelspec": {
   "display_name": "Python 2",
   "language": "python",
   "name": "python2"
  },
  "language_info": {
   "codemirror_mode": {
    "name": "ipython",
    "version": 2
   },
   "file_extension": ".py",
   "mimetype": "text/x-python",
   "name": "python",
   "nbconvert_exporter": "python",
   "pygments_lexer": "ipython2",
   "version": "2.7.9"
  }
 },
 "nbformat": 4,
 "nbformat_minor": 0
}
