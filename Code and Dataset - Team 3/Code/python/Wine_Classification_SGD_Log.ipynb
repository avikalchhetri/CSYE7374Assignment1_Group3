{
 "cells": [
  {
   "cell_type": "code",
   "execution_count": 1,
   "metadata": {
    "collapsed": false
   },
   "outputs": [
    {
     "name": "stdout",
     "output_type": "stream",
     "text": [
      "Populating the interactive namespace from numpy and matplotlib\n",
      "\n",
      "Training------------\n",
      "\n",
      " Confusion Matrix:\n",
      "            low  high\n",
      "      low 2659.0  24.0\n",
      "     high 741.0   4.0\n",
      "\n",
      "Accuracy:\n",
      "0.776837806301\n",
      "\n",
      "Test Data-----------\n",
      "\n",
      " Confusion Matrix:\n",
      "            low  high\n",
      "      low 1149.0   6.0\n",
      "     high 311.0   4.0\n",
      "\n",
      "Accuracy:\n",
      "0.784353741497\n"
     ]
    }
   ],
   "source": [
    "%pylab inline\n",
    "# Importing the required packages\n",
    "import numpy as np\n",
    "import pandas as pd\n",
    "from sklearn.linear_model import SGDClassifier\n",
    "from numpy import genfromtxt, savetxt\n",
    "from sklearn.cross_validation import train_test_split\n",
    "from sklearn.metrics import confusion_matrix, accuracy_score \n",
    "from sklearn.preprocessing import normalize\n",
    "\n",
    "# A function to pretty-print the confusion-matrix\n",
    "\n",
    "def print_cm(cm, labels, hide_zeroes=False, hide_diagonal=False, hide_threshold=None):\n",
    "    \"\"\"pretty print for confusion matrixes\"\"\"\n",
    "    columnwidth = max([len(x) for x in labels]+[5]) # 5 is value length\n",
    "    empty_cell = \" \" * columnwidth\n",
    "    # Print header\n",
    "    print \"    \" + empty_cell,\n",
    "    for label in labels: \n",
    "        print \"%{0}s\".format(columnwidth) % label,\n",
    "    print\n",
    "    # Print rows\n",
    "    for i, label1 in enumerate(labels):\n",
    "        print \"    %{0}s\".format(columnwidth) % label1,\n",
    "        for j in range(len(labels)): \n",
    "            cell = \"%{0}.1f\".format(columnwidth) % cm[i, j]\n",
    "            if hide_zeroes:\n",
    "                cell = cell if float(cm[i, j]) != 0 else empty_cell\n",
    "            if hide_diagonal:\n",
    "                cell = cell if i != j else empty_cell\n",
    "            if hide_threshold:\n",
    "                cell = cell if cm[i, j] > hide_threshold else empty_cell\n",
    "            print cell,\n",
    "        print\n",
    "\n",
    "        \n",
    "# Import the the dataset to dataframe\n",
    "df = pd.read_csv('C:\\\\Users\\\\anirudhbedre\\\\Desktop\\\\Wine\\\\wine_quality_classification.csv', header=0, delimiter=',')\n",
    "\n",
    "# Dropping 'Density' column as it does not have much impact on data\n",
    "df=df.drop(['density'], axis=1)\n",
    "\n",
    "# Split into training and test test data \n",
    "(trainingData, testData) = train_test_split(df, test_size=0.3, random_state=12345)\n",
    "\n",
    "# Creating an array of the labels \n",
    "labels = np.array(['low','high'])\n",
    "\n",
    "# Creating a classification model by specifying type, parameters and fitting the data\n",
    "model= SGDClassifier(loss='log', penalty='l1', random_state=12345) # possible penalites are'l1','l2'\n",
    "model.fit(normalize(trainingData.iloc[:,0:10]),trainingData['quality'])\n",
    "\n",
    "# Getting the predicted values for training and test data based on the model built on the training data\n",
    "train_pvalues=model.predict(normalize(trainingData.iloc[:,0:10]))\n",
    "test_pvalues=model.predict(normalize(testData.iloc[:,0:10]))\n",
    "\n",
    "# Building confusion-matrices for both training and testing data\n",
    "cm=confusion_matrix(np.array(trainingData['quality']), train_pvalues, labels=labels)\n",
    "cm2=confusion_matrix(np.array(testData['quality']), test_pvalues, labels=labels)\n",
    "\n",
    "print('\\nTraining------------')\n",
    "print('\\n Confusion Matrix:')\n",
    "print_cm(cm, labels)\n",
    "print('\\nAccuracy:') \n",
    "print(accuracy_score(np.array(trainingData['quality']), train_pvalues)) # Print accuracy of training data\n",
    "print('\\nTest Data-----------')\n",
    "print('\\n Confusion Matrix:')\n",
    "print_cm(cm2, labels)\n",
    "print('\\nAccuracy:')\n",
    "print(accuracy_score(np.array(testData['quality']), test_pvalues))  # Print accuracy of testing data"
   ]
  },
  {
   "cell_type": "code",
   "execution_count": null,
   "metadata": {
    "collapsed": true
   },
   "outputs": [],
   "source": []
  }
 ],
 "metadata": {
  "kernelspec": {
   "display_name": "Python 2",
   "language": "python",
   "name": "python2"
  },
  "language_info": {
   "codemirror_mode": {
    "name": "ipython",
    "version": 2
   },
   "file_extension": ".py",
   "mimetype": "text/x-python",
   "name": "python",
   "nbconvert_exporter": "python",
   "pygments_lexer": "ipython2",
   "version": "2.7.9"
  }
 },
 "nbformat": 4,
 "nbformat_minor": 0
}
