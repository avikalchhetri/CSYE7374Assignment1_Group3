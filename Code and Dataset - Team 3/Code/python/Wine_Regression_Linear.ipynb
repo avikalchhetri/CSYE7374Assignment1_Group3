{
 "cells": [
  {
   "cell_type": "code",
   "execution_count": 2,
   "metadata": {
    "collapsed": false
   },
   "outputs": [
    {
     "name": "stdout",
     "output_type": "stream",
     "text": [
      "Populating the interactive namespace from numpy and matplotlib\n"
     ]
    },
    {
     "name": "stderr",
     "output_type": "stream",
     "text": [
      "WARNING: pylab import has clobbered these variables: ['normalize']\n",
      "`%matplotlib` prevents importing * from pylab and numpy\n"
     ]
    },
    {
     "ename": "TypeError",
     "evalue": "__init__() got an unexpected keyword argument 'random_state'",
     "output_type": "error",
     "traceback": [
      "\u001b[1;31m---------------------------------------------------------------------------\u001b[0m",
      "\u001b[1;31mTypeError\u001b[0m                                 Traceback (most recent call last)",
      "\u001b[1;32m<ipython-input-2-12a4b0581463>\u001b[0m in \u001b[0;36m<module>\u001b[1;34m()\u001b[0m\n\u001b[0;32m     21\u001b[0m \u001b[1;33m\u001b[0m\u001b[0m\n\u001b[0;32m     22\u001b[0m \u001b[1;31m# Creating a classification model by specifying type, parameters and fitting the data\u001b[0m\u001b[1;33m\u001b[0m\u001b[1;33m\u001b[0m\u001b[0m\n\u001b[1;32m---> 23\u001b[1;33m \u001b[0mmodel\u001b[0m\u001b[1;33m=\u001b[0m \u001b[0mLinearRegression\u001b[0m\u001b[1;33m(\u001b[0m\u001b[0mrandom_state\u001b[0m\u001b[1;33m=\u001b[0m\u001b[1;36m12345\u001b[0m\u001b[1;33m)\u001b[0m\u001b[1;33m\u001b[0m\u001b[0m\n\u001b[0m\u001b[0;32m     24\u001b[0m \u001b[0mmodel\u001b[0m\u001b[1;33m.\u001b[0m\u001b[0mfit\u001b[0m\u001b[1;33m(\u001b[0m\u001b[0mnormalize\u001b[0m\u001b[1;33m(\u001b[0m\u001b[0mtrainingData\u001b[0m\u001b[1;33m.\u001b[0m\u001b[0miloc\u001b[0m\u001b[1;33m[\u001b[0m\u001b[1;33m:\u001b[0m\u001b[1;33m,\u001b[0m\u001b[1;36m0\u001b[0m\u001b[1;33m:\u001b[0m\u001b[1;36m10\u001b[0m\u001b[1;33m]\u001b[0m\u001b[1;33m)\u001b[0m\u001b[1;33m,\u001b[0m\u001b[0mtrainingData\u001b[0m\u001b[1;33m[\u001b[0m\u001b[1;34m'quality'\u001b[0m\u001b[1;33m]\u001b[0m\u001b[1;33m)\u001b[0m\u001b[1;33m\u001b[0m\u001b[0m\n\u001b[0;32m     25\u001b[0m \u001b[1;33m\u001b[0m\u001b[0m\n",
      "\u001b[1;31mTypeError\u001b[0m: __init__() got an unexpected keyword argument 'random_state'"
     ]
    }
   ],
   "source": [
    "%pylab inline\n",
    "# Importing the required packages\n",
    "import numpy as np\n",
    "import pandas as pd\n",
    "from sklearn.linear_model import LinearRegression\n",
    "from numpy import genfromtxt, savetxt\n",
    "from sklearn.cross_validation import train_test_split\n",
    "from sklearn.metrics import mean_squared_error, mean_absolute_error\n",
    "from sklearn.preprocessing import normalize\n",
    "\n",
    "\n",
    "# Import the the dataset to dataframe\n",
    "df = pd.read_csv('C:\\\\Users\\\\anirudhbedre\\\\Desktop\\\\Wine\\\\wine_quality_regression.csv', header=0, delimiter=',')\n",
    "\n",
    "# Dropping 'Density' column as it does not have much impact on data\n",
    "df=df.drop(['density'], axis=1)\n",
    "\n",
    "# Split into training and test test data \n",
    "(trainingData, testData) = train_test_split(df, test_size=0.3, random_state=12345)\n",
    "\n",
    "\n",
    "# Creating a classification model by specifying type, parameters and fitting the data\n",
    "model= LinearRegression(random_state=12345)\n",
    "model.fit(normalize(trainingData.iloc[:,0:10]),trainingData['quality'])\n",
    "\n",
    "# Getting the predicted values for training and test data based on the model built on the training data\n",
    "train_pvalues=model.predict(normalize(trainingData.iloc[:,0:10]))\n",
    "test_pvalues=model.predict(normalize(testData.iloc[:,0:10]))\n",
    "\n",
    "\n",
    "\n",
    "print('\\nTraining------------------------')\n",
    "print('\\nMean Squared Error: ')\n",
    "print(mean_squared_error(np.array(trainingData['quality']), train_pvalues))\n",
    "print('\\nMean Absolute Error: ')\n",
    "print(mean_absolute_error(np.array(trainingData['quality']), train_pvalues))\n",
    "print('\\nTest Score----------------------')\n",
    "print('\\nMean Squared Error')\n",
    "print(mean_squared_error(np.array(testData['quality']), test_pvalues))\n",
    "print('\\nMean Absolute Error')\n",
    "print(mean_absolute_error(np.array(testData['quality']), test_pvalues))"
   ]
  },
  {
   "cell_type": "code",
   "execution_count": null,
   "metadata": {
    "collapsed": true
   },
   "outputs": [],
   "source": []
  }
 ],
 "metadata": {
  "kernelspec": {
   "display_name": "Python 2",
   "language": "python",
   "name": "python2"
  },
  "language_info": {
   "codemirror_mode": {
    "name": "ipython",
    "version": 2
   },
   "file_extension": ".py",
   "mimetype": "text/x-python",
   "name": "python",
   "nbconvert_exporter": "python",
   "pygments_lexer": "ipython2",
   "version": "2.7.9"
  }
 },
 "nbformat": 4,
 "nbformat_minor": 0
}
